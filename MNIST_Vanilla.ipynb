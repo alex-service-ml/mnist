{
 "cells": [
  {
   "cell_type": "markdown",
   "metadata": {},
   "source": [
    "# MNIST Vanilla\n",
    "The purpose of this notebook is to act as a refresher for training a simple neural network on the mnist dataset.\n",
    "We'll accomplish this without yet utilizing TensorFlow, although we'll cheat and grab the MNIST data from TensorFlow. This should end up looking very similar to the network defined in the first chapter of Neural Networks and Deep Learning at http://neuralnetworksanddeeplearning.com/"
   ]
  },
  {
   "cell_type": "code",
   "execution_count": 2,
   "metadata": {},
   "outputs": [],
   "source": [
    "# Load up useful libraries\n",
    "import numpy as np\n",
    "import matplotlib.pyplot as plt\n",
    "%matplotlib inline"
   ]
  },
  {
   "cell_type": "markdown",
   "metadata": {},
   "source": [
    "# Tasks\n",
    "A lot of Deep Learning resources espouse how a simple neural network can be written in 70 lines, 30 lines, even 11 lines, but that does not do justice to information packed in each line of code. The major tasks include:\n",
    "* Preparing the data (collecting, labeling, preprocessing, encoding, etc)\n",
    "* Defining the network\n",
    "* Training\n",
    "* Tuning hyper-parameters\n",
    "\n",
    "Each one of these tasks is monumental and the list is not exhaustive."
   ]
  },
  {
   "cell_type": "markdown",
   "metadata": {},
   "source": [
    "# Preparing the Data\n",
    "\n",
    "First, the dataset needs to be downloaded and extracted. Then, it is divided into train/validation/test sets. Labels for the train/validation data must be one-hot encoded. All of this is handled via the read_data_sets function call."
   ]
  },
  {
   "cell_type": "code",
   "execution_count": 3,
   "metadata": {},
   "outputs": [
    {
     "name": "stdout",
     "output_type": "stream",
     "text": [
      "Extracting MNIST_data/train-images-idx3-ubyte.gz\n",
      "Extracting MNIST_data/train-labels-idx1-ubyte.gz\n",
      "Extracting MNIST_data/t10k-images-idx3-ubyte.gz\n",
      "Extracting MNIST_data/t10k-labels-idx1-ubyte.gz\n",
      "(55000, 784)\n",
      "(55000, 10)\n"
     ]
    }
   ],
   "source": [
    "''' \n",
    "Download the mnist dataset and validate the size/shape \n",
    "Note the image dimensions. Once we get to using TensorFlow, they will become 4D, rather than 2D: N x H x W x C, where:\n",
    "    N = # of samples,\n",
    "    H = rows/height of the image,\n",
    "    W = columns/width of the image, and\n",
    "    C = channels (colors) in the image\n",
    "'''\n",
    "from tensorflow.examples.tutorials.mnist import input_data\n",
    "mnist = input_data.read_data_sets('MNIST_data', one_hot=True)\n",
    "print(mnist.train.images.shape)\n",
    "print(mnist.train.labels.shape)"
   ]
  },
  {
   "cell_type": "markdown",
   "metadata": {},
   "source": [
    "## Shuffling the Data\n",
    "This handy function will later be used to shuffle the training data. It ensures that images and their labels will be shuffled in the same order. Another approach is to tuple your data and shuffle the tuples."
   ]
  },
  {
   "cell_type": "code",
   "execution_count": 4,
   "metadata": {},
   "outputs": [],
   "source": [
    "def shuffle(a, b):\n",
    "    assert len(a) == len(b)\n",
    "    state = np.random.get_state()\n",
    "    np.random.shuffle(a)\n",
    "    np.random.set_state(state)\n",
    "    np.random.shuffle(b)\n",
    "    "
   ]
  },
  {
   "cell_type": "markdown",
   "metadata": {},
   "source": [
    "Let's give it a shuffle in order to verify that it works as intended."
   ]
  },
  {
   "cell_type": "code",
   "execution_count": 5,
   "metadata": {},
   "outputs": [
    {
     "name": "stdout",
     "output_type": "stream",
     "text": [
      "8\n"
     ]
    },
    {
     "data": {
      "image/png": "[encoded data removed]",
      "text/plain": [
       "<matplotlib.figure.Figure at 0x7f79e2a08b00>"
      ]
     },
     "metadata": {},
     "output_type": "display_data"
    }
   ],
   "source": [
    "shuffle(mnist.train.images, mnist.train.labels)\n",
    "# Sanity check that our shuffling is properly associating the labels with the images\n",
    "img = np.reshape(np.copy(mnist.train.images), (55000, 28, 28))\n",
    "\n",
    "plt.imshow(img[0], cmap='gray')\n",
    "print(np.argmax(mnist.train.labels[0]))"
   ]
  },
  {
   "cell_type": "markdown",
   "metadata": {},
   "source": [
    "One more for good measure:"
   ]
  },
  {
   "cell_type": "code",
   "execution_count": 6,
   "metadata": {},
   "outputs": [
    {
     "name": "stdout",
     "output_type": "stream",
     "text": [
      "4\n"
     ]
    },
    {
     "data": {
      "image/png": "[encoded data removed]",
      "text/plain": [
       "<matplotlib.figure.Figure at 0x7f79e2a08cc0>"
      ]
     },
     "metadata": {},
     "output_type": "display_data"
    }
   ],
   "source": [
    "plt.imshow(img[1], cmap='gray')\n",
    "print(np.argmax(mnist.train.labels[1]))"
   ]
  },
  {
   "cell_type": "markdown",
   "metadata": {},
   "source": [
    "# Defining the Network\n",
    "The structure of a basic neural network is as follows:\n",
    "* An input layer and an output layer (dimensions match input data and number of labels, respectively\n",
    "* One or more hidden layers \n",
    "* Weight matrices (the parameters)\n",
    "* Bias matrices\n",
    "* Feed Forward function\n",
    "* Activation function for each layer (can be different for each layer, but we'll keep it the same for this example)\n",
    "* Cost/Loss Function\n"
   ]
  },
  {
   "cell_type": "markdown",
   "metadata": {},
   "source": [
    "## Activation Function and Cost Function\n",
    "\n",
    "The activation function is used during the forward pass to add a non-linearity to the graph/network. After the forward pass, the cost function tells us how wrong the network was. Additionally, we'll need the derivative of each during the backpropagation phase of training.\n",
    "\n",
    "Note about activation: here we use **sigmoid**, but we can return later to play with relu\n",
    "\n",
    "Note about cost: For now, we're using **Mean Squared Error**, but there exist many cost functions, such as Cross Entropy, which behave better for categorization"
   ]
  },
  {
   "cell_type": "code",
   "execution_count": 7,
   "metadata": {},
   "outputs": [],
   "source": [
    "def sigmoid(z):\n",
    "    return 1 / (1 + np.exp(-z))\n",
    "\n",
    "def sigmoid_prime(z):\n",
    "    return sigmoid(z) * (1 - sigmoid(z))\n",
    "\n",
    "def cost(y, y_pred):\n",
    "    return 0.5 * (1 / y.shape[0]) * np.sum(np.abs(y - y_pred) ** 2)\n",
    "\n",
    "def cost_prime(y, y_pred):\n",
    "    return y_pred - y"
   ]
  },
  {
   "cell_type": "markdown",
   "metadata": {},
   "source": [
    "## Network Object\n",
    "Store the network object in a simple python class called Network. It will be initialized by passing a list of integers defining each layer size. The network object itself will handle initializing the weights (basically, we just want them to be small, non-zero numbers)."
   ]
  },
  {
   "cell_type": "code",
   "execution_count": 8,
   "metadata": {},
   "outputs": [],
   "source": [
    "class Network:\n",
    "    \n",
    "    def __init__(self, *layers):\n",
    "        self.layers = [l for l in layers]\n",
    "        self.W = [np.random.rand(layers[i], layers[i+1]) * 0.001 for i in range(len(layers) - 1)]\n",
    "        self.B = [np.random.rand(1, layers[i+1]) for i in range(len(layers) - 1)]  # Input layer doesn't have bias\n",
    "        \n",
    "    def feedforward(self, x):\n",
    "        a = x  # re-label input to simplify loop\n",
    "        activations = [a]\n",
    "        z_products = []\n",
    "        for b, w in zip(self.B, self.W):\n",
    "            z = np.dot(a, w) + b\n",
    "            a = sigmoid(z)\n",
    "            activations.append(a)\n",
    "            z_products.append(z)\n",
    "        return activations, z_products"
   ]
  },
  {
   "cell_type": "markdown",
   "metadata": {},
   "source": [
    "Go ahead and give the network a spin. Note that position in the output & z array corresponds to the layer in the network where it was calculated (therefore, the last element in the array is the output of the network)"
   ]
  },
  {
   "cell_type": "code",
   "execution_count": 9,
   "metadata": {},
   "outputs": [
    {
     "name": "stdout",
     "output_type": "stream",
     "text": [
      "(55000, 10)\n",
      "1.95800059112\n"
     ]
    }
   ],
   "source": [
    "network = Network(784, 15, 10)\n",
    "output, z = network.feedforward(mnist.train.images)\n",
    "print(output[-1].shape)\n",
    "print(cost(mnist.train.labels, output[-1]))"
   ]
  },
  {
   "cell_type": "markdown",
   "metadata": {},
   "source": [
    "# Training the Network\n",
    "\n",
    "To train the network, we'll use Stochastic Gradient Descent (mini-batch). Achieving this will require shuffling the training data and labels and dividing the training data into mini-batches. Next, we have to do a forward pass on the network and then execute backpropagation to update the weights and biases of the network. "
   ]
  },
  {
   "cell_type": "code",
   "execution_count": 10,
   "metadata": {},
   "outputs": [],
   "source": [
    "class Network(Network):  # Extend the Network class defined above\n",
    "    def test(self):\n",
    "        # Stubbed. Gets defined further down\n",
    "        return\n",
    "    \n",
    "    def train(self, images, labels, batch_size=200, learning_rate=0.01, epochs=10):\n",
    "        assert len(images) == len(labels)\n",
    "        \n",
    "        for i in range(epochs):\n",
    "            shuffle(images, labels)\n",
    "            # Divide training data into batches\n",
    "            img_batches = [images[i:i+batch_size] for i in range(0, len(images), batch_size)]\n",
    "            label_batches = [labels[i:i+batch_size] for i in range(0, len(labels), batch_size)]\n",
    "            n_batches = len(img_batches)\n",
    "\n",
    "            training_cost = []\n",
    "            for imgs, lbls in zip(img_batches, label_batches):\n",
    "                a, z = self.feedforward(imgs)\n",
    "\n",
    "                # Calculate Output Error\n",
    "                dL = np.multiply((a[-1] - lbls),sigmoid_prime(z[-1]))\n",
    "\n",
    "                # Update biases and weights for output layer using output error\n",
    "                dBL = np.reshape(np.sum(dL, axis=0), (1,dL.shape[1]))\n",
    "                dWL = np.dot(a[-2].T, dL)\n",
    "                # Being verbose to show that we're building a list of deltas for each layer in the network (excluding input layer)\n",
    "                dBl = [dBL]\n",
    "                dWl = [dWL]\n",
    "                dl = dL\n",
    "                \n",
    "                # Calculate Hidden Error\n",
    "                for l in range(len(a) - 2, 0, -1):  # -1 for zero-indexing, -1 more because output layer already calculated\n",
    "                    dl = np.multiply(np.dot(dl, self.W[l].T), sigmoid_prime(z[l-1]))\n",
    "                    dBl.insert(0, np.reshape(np.sum(dl, axis=0), (1, dl.shape[1])))\n",
    "                    dWl.insert(0, np.dot(a[l-1].T, dl))\n",
    "\n",
    "                # Update weights and biases\n",
    "                for j in range(len(self.W)):\n",
    "                    self.W[j] -= (learning_rate / batch_size) * dWl[j]\n",
    "                    self.B[j] -= (learning_rate / batch_size) * dBl[j]\n",
    "\n",
    "\n",
    "            # Cost after training this epoch\n",
    "            a, z = self.feedforward(images)\n",
    "            training_cost.append(cost(labels, a[-1]))\n",
    "            result = str(training_cost[-1])\n",
    "\n",
    "            if (i + 1) % 5 == 0:\n",
    "                result += ' ' + str(self.test()) +  ' / 10000'\n",
    "            print(result)\n",
    "        return training_cost\n",
    "    "
   ]
  },
  {
   "cell_type": "markdown",
   "metadata": {},
   "source": [
    "# Executing Training\n",
    "With (mostly) everything defined, the network is ready to start training. First, let's define a simple network and see what its cost looks like"
   ]
  },
  {
   "cell_type": "code",
   "execution_count": 11,
   "metadata": {},
   "outputs": [
    {
     "name": "stdout",
     "output_type": "stream",
     "text": [
      "1.7686093702\n"
     ]
    }
   ],
   "source": [
    "network = Network(784, 15, 10)\n",
    "a, z = network.feedforward(mnist.train.images)\n",
    "print(cost(mnist.train.labels, a[-1]))"
   ]
  },
  {
   "cell_type": "markdown",
   "metadata": {},
   "source": [
    "Finally, training can begin"
   ]
  },
  {
   "cell_type": "code",
   "execution_count": 12,
   "metadata": {},
   "outputs": [
    {
     "name": "stdout",
     "output_type": "stream",
     "text": [
      "0.449512576095\n",
      "0.399371706367\n",
      "0.339003654516\n",
      "0.262533907116\n",
      "0.198346654812 None / 10000\n",
      "0.151840758107\n",
      "0.121685275456\n",
      "0.105677567164\n",
      "0.0954982060348\n",
      "0.0884731201589 None / 10000\n"
     ]
    },
    {
     "data": {
      "text/plain": [
       "[0.088473120158866644]"
      ]
     },
     "execution_count": 12,
     "metadata": {},
     "output_type": "execute_result"
    }
   ],
   "source": [
    "network.train(mnist.train.images, mnist.train.labels, learning_rate=1, batch_size=200, epochs=10)"
   ]
  },
  {
   "cell_type": "markdown",
   "metadata": {},
   "source": [
    "# Testing and Verification\n",
    "Let's add a function that explicitly tells us how many images we've correctly labeled. As the network is just using MSE at the moment, we'll simply pick the label that has the highest confidence for each image."
   ]
  },
  {
   "cell_type": "code",
   "execution_count": 13,
   "metadata": {},
   "outputs": [],
   "source": [
    "class Network(Network):  # Extend the Network class defined above\n",
    "    def test(self):\n",
    "        img = mnist.test.images\n",
    "        a, z = self.feedforward(img)\n",
    "        a[-1].shape\n",
    "        prediction = np.argmax(a[-1], axis=1)\n",
    "        truth = np.argmax(mnist.test.labels, axis=1)\n",
    "        result = np.sum([p == i for p, i in zip(prediction, truth)])\n",
    "        return result\n"
   ]
  },
  {
   "cell_type": "markdown",
   "metadata": {},
   "source": [
    "Now we can conveniently see both the cost and the test results while training. Let's go ahead and make a new network to show it off:"
   ]
  },
  {
   "cell_type": "code",
   "execution_count": 14,
   "metadata": {},
   "outputs": [],
   "source": [
    "deep_network = Network(784,100,20,10)"
   ]
  },
  {
   "cell_type": "code",
   "execution_count": 18,
   "metadata": {},
   "outputs": [
    {
     "name": "stdout",
     "output_type": "stream",
     "text": [
      "0.023243093668\n",
      "0.0228427627962\n",
      "0.0227634320302\n",
      "0.0224295491061\n",
      "0.022164345061 9652 / 10000\n",
      "0.0218719834621\n",
      "0.0213202846866\n",
      "0.0210423460174\n",
      "0.0209766956108\n",
      "0.0205507511025 9672 / 10000\n",
      "0.0202910638104\n",
      "0.0198748999097\n",
      "0.0196906197979\n",
      "0.019430119096\n",
      "0.0191744574822 9676 / 10000\n",
      "0.0190347612555\n",
      "0.0186285660688\n",
      "0.0187447499589\n",
      "0.0182625280044\n",
      "0.0178989877822 9695 / 10000\n",
      "0.017819695328\n",
      "0.017606082905\n",
      "0.0172492833402\n",
      "0.0169827529661\n",
      "0.0167888319138 9697 / 10000\n",
      "0.0166801378872\n",
      "0.0166505082546\n",
      "0.0162444945122\n",
      "0.0161528727794\n",
      "0.0159099343575 9701 / 10000\n"
     ]
    },
    {
     "data": {
      "text/plain": [
       "[0.015909934357499763]"
      ]
     },
     "execution_count": 18,
     "metadata": {},
     "output_type": "execute_result"
    }
   ],
   "source": [
    "deep_network.train(mnist.train.images, mnist.train.labels, learning_rate=1, batch_size=200, epochs=30)"
   ]
  },
  {
   "cell_type": "markdown",
   "metadata": {},
   "source": [
    "# Final Thoughts\n",
    "\n",
    "With this basic implementation, the network was able to hit **97% accuracy** on the MNIST dataset. Not bad! Next up, we'll review some improvements to the nextwork, including using ReLU for activations, Cross Entropy for cost, L1/L2 normalization (maybe), and dropout. "
   ]
  },
  {
   "cell_type": "code",
   "execution_count": 1,
   "metadata": {},
   "outputs": [],
   "source": [
    "# Load up useful libraries\n",
    "import numpy as np\n",
    "import matplotlib.pyplot as plt\n",
    "\n",
    "\n",
    "def shuffle(a, b):\n",
    "    assert len(a) == len(b)\n",
    "    state = np.random.get_state()\n",
    "    np.random.shuffle(a)\n",
    "    np.random.set_state(state)\n",
    "    np.random.shuffle(b)\n",
    "    \n",
    "def sigmoid(z):\n",
    "    return 1 / (1 + np.exp(-z))\n",
    "\n",
    "def sigmoid_prime(z):\n",
    "    return sigmoid(z) * (1 - sigmoid(z))\n",
    "\n",
    "def cost(y, y_pred):\n",
    "    return 0.5 * (1 / y.shape[0]) * np.sum(np.abs(y - y_pred) ** 2)\n",
    "\n",
    "def cost_prime(y, y_pred):\n",
    "    return y_pred - y\n",
    "\n",
    "\n",
    "class Activation:\n",
    "    def __init__(self, activation, derivative):\n",
    "        self.activation = activation\n",
    "        self.derivative = derivative\n",
    "        \n",
    "    def activate(z):\n",
    "        return self.activation(z)\n",
    "    \n",
    "    def derive(z):\n",
    "        return self.derivative(z)\n",
    "    \n",
    "\n",
    "class Network:\n",
    "    \n",
    "    def __init__(self, *layers, activation=Activation(sigmoid, sigmoid_prime)):\n",
    "        assert activation is not None\n",
    "        self.layers = [l for l in layers]\n",
    "        self.W = [np.random.rand(layers[i], layers[i+1]) * 0.001 for i in range(len(layers) - 1)]\n",
    "        self.B = [np.random.rand(1, layers[i+1]) for i in range(len(layers) - 1)]  # Input layer doesn't have bias\n",
    "        self.activation = activation\n",
    "        \n",
    "    def feedforward(self, x):\n",
    "        a = x  # re-label input to simplify loop\n",
    "        activations = [a]\n",
    "        z_products = []\n",
    "        for b, w in zip(self.B, self.W):\n",
    "            z = np.dot(a, w) + b\n",
    "            a = self.activation.activate(z)\n",
    "            activations.append(a)\n",
    "            z_products.append(z)\n",
    "        return activations, z_products\n",
    "    \n",
    "    def train(self, images, labels, batch_size=200, learning_rate=0.01, epochs=10):\n",
    "        assert len(images) == len(labels)\n",
    "        \n",
    "        for i in range(epochs):\n",
    "            shuffle(images, labels)\n",
    "            # Divide training data into batches\n",
    "            img_batches = [images[i:i+batch_size] for i in range(0, len(images), batch_size)]\n",
    "            label_batches = [labels[i:i+batch_size] for i in range(0, len(labels), batch_size)]\n",
    "            n_batches = len(img_batches)\n",
    "\n",
    "            training_cost = []\n",
    "            for imgs, lbls in zip(img_batches, label_batches):\n",
    "                a, z = self.feedforward(imgs)\n",
    "\n",
    "                # Calculate Output Error\n",
    "                dL = np.multiply((a[-1] - lbls),self.activation.derive(z[-1]))\n",
    "\n",
    "                # Update biases and weights for output layer using output error\n",
    "                dBL = np.reshape(np.sum(dL, axis=0), (1,dL.shape[1]))\n",
    "                dWL = np.dot(a[-2].T, dL)\n",
    "                # Being verbose to show that we're building a list of deltas for each layer in the network (excluding input layer)\n",
    "                dBl = [dBL]\n",
    "                dWl = [dWL]\n",
    "                dl = dL\n",
    "                \n",
    "                # Calculate Hidden Error\n",
    "                for l in range(len(a) - 2, 0, -1):  # -1 for zero-indexing, -1 more because output layer already calculated\n",
    "                    dl = np.multiply(np.dot(dl, self.W[l].T), self.activation.derive(z[l-1]))\n",
    "                    dBl.insert(0, np.reshape(np.sum(dl, axis=0), (1, dl.shape[1])))\n",
    "                    dWl.insert(0, np.dot(a[l-1].T, dl))\n",
    "\n",
    "                # Update weights and biases\n",
    "                for j in range(len(self.W)):\n",
    "                    self.W[j] -= (learning_rate / batch_size) * dWl[j]\n",
    "                    self.B[j] -= (learning_rate / batch_size) * dBl[j]\n",
    "\n",
    "\n",
    "            # Cost after training this epoch\n",
    "            a, z = self.feedforward(images)\n",
    "            training_cost.append(cost(labels, a[-1]))\n",
    "            result = str(training_cost[-1])\n",
    "\n",
    "            if (i + 1) % 5 == 0:\n",
    "                result += ' ' + str(self.test()) +  ' / 10000'\n",
    "            print(result)\n",
    "        return training_cost\n",
    "    \n",
    "    def test(self):\n",
    "        img = mnist.test.images\n",
    "        a, z = self.feedforward(img)\n",
    "        a[-1].shape\n",
    "        prediction = np.argmax(a[-1], axis=1)\n",
    "        truth = np.argmax(mnist.test.labels, axis=1)\n",
    "        result = np.sum([p == i for p, i in zip(prediction, truth)])\n",
    "        return result"
   ]
  },
  {
   "cell_type": "code",
   "execution_count": null,
   "metadata": {},
   "outputs": [],
   "source": []
  }
 ],
 "metadata": {
  "kernelspec": {
   "display_name": "Python 3",
   "language": "python",
   "name": "python3"
  },
  "language_info": {
   "codemirror_mode": {
    "name": "ipython",
    "version": 3
   },
   "file_extension": ".py",
   "mimetype": "text/x-python",
   "name": "python",
   "nbconvert_exporter": "python",
   "pygments_lexer": "ipython3",
   "version": "3.5.2"
  }
 },
 "nbformat": 4,
 "nbformat_minor": 2
}
